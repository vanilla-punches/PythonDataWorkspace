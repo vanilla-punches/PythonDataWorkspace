{
 "cells": [
  {
   "cell_type": "markdown",
   "id": "d0e4ef58",
   "metadata": {},
   "source": [
    "# 12. Multiple Bar Chart"
   ]
  },
  {
   "cell_type": "code",
   "execution_count": 1,
   "id": "fbea6ef7",
   "metadata": {},
   "outputs": [],
   "source": [
    "import pandas as pd"
   ]
  },
  {
   "cell_type": "code",
   "execution_count": 2,
   "id": "0ded6d42",
   "metadata": {},
   "outputs": [],
   "source": [
    "import matplotlib.pyplot as plt\n",
    "import matplotlib\n",
    "matplotlib.rcParams['font.family'] = 'Hiragino Sans'\n",
    "matplotlib.rcParams['font.size'] = 15\n",
    "matplotlib.rcParams['axes.unicode_minus'] = False"
   ]
  },
  {
   "cell_type": "code",
   "execution_count": 3,
   "id": "4b1a7ba5",
   "metadata": {},
   "outputs": [
    {
     "data": {
      "text/html": [
       "<div>\n",
       "<style scoped>\n",
       "    .dataframe tbody tr th:only-of-type {\n",
       "        vertical-align: middle;\n",
       "    }\n",
       "\n",
       "    .dataframe tbody tr th {\n",
       "        vertical-align: top;\n",
       "    }\n",
       "\n",
       "    .dataframe thead th {\n",
       "        text-align: right;\n",
       "    }\n",
       "</style>\n",
       "<table border=\"1\" class=\"dataframe\">\n",
       "  <thead>\n",
       "    <tr style=\"text-align: right;\">\n",
       "      <th></th>\n",
       "      <th>Application Number</th>\n",
       "      <th>Name</th>\n",
       "      <th>School</th>\n",
       "      <th>Height</th>\n",
       "      <th>English</th>\n",
       "      <th>Math</th>\n",
       "      <th>Biology</th>\n",
       "      <th>Finance</th>\n",
       "      <th>Coding</th>\n",
       "    </tr>\n",
       "  </thead>\n",
       "  <tbody>\n",
       "    <tr>\n",
       "      <th>0</th>\n",
       "      <td>#1</td>\n",
       "      <td>Ian</td>\n",
       "      <td>A1</td>\n",
       "      <td>178</td>\n",
       "      <td>90</td>\n",
       "      <td>100</td>\n",
       "      <td>88</td>\n",
       "      <td>95</td>\n",
       "      <td>Python</td>\n",
       "    </tr>\n",
       "    <tr>\n",
       "      <th>1</th>\n",
       "      <td>#2</td>\n",
       "      <td>Jason</td>\n",
       "      <td>A2</td>\n",
       "      <td>198</td>\n",
       "      <td>100</td>\n",
       "      <td>82</td>\n",
       "      <td>78</td>\n",
       "      <td>88</td>\n",
       "      <td>NaN</td>\n",
       "    </tr>\n",
       "    <tr>\n",
       "      <th>2</th>\n",
       "      <td>#3</td>\n",
       "      <td>Smith</td>\n",
       "      <td>A2</td>\n",
       "      <td>168</td>\n",
       "      <td>85</td>\n",
       "      <td>87</td>\n",
       "      <td>90</td>\n",
       "      <td>75</td>\n",
       "      <td>C++</td>\n",
       "    </tr>\n",
       "    <tr>\n",
       "      <th>3</th>\n",
       "      <td>#4</td>\n",
       "      <td>John</td>\n",
       "      <td>A1</td>\n",
       "      <td>188</td>\n",
       "      <td>70</td>\n",
       "      <td>65</td>\n",
       "      <td>95</td>\n",
       "      <td>92</td>\n",
       "      <td>Java</td>\n",
       "    </tr>\n",
       "    <tr>\n",
       "      <th>4</th>\n",
       "      <td>#5</td>\n",
       "      <td>Kara</td>\n",
       "      <td>A1</td>\n",
       "      <td>201</td>\n",
       "      <td>82</td>\n",
       "      <td>78</td>\n",
       "      <td>88</td>\n",
       "      <td>84</td>\n",
       "      <td>NaN</td>\n",
       "    </tr>\n",
       "    <tr>\n",
       "      <th>5</th>\n",
       "      <td>#6</td>\n",
       "      <td>Daisy</td>\n",
       "      <td>A1</td>\n",
       "      <td>172</td>\n",
       "      <td>91</td>\n",
       "      <td>80</td>\n",
       "      <td>76</td>\n",
       "      <td>80</td>\n",
       "      <td>NaN</td>\n",
       "    </tr>\n",
       "    <tr>\n",
       "      <th>6</th>\n",
       "      <td>#7</td>\n",
       "      <td>Jack</td>\n",
       "      <td>A2</td>\n",
       "      <td>174</td>\n",
       "      <td>77</td>\n",
       "      <td>50</td>\n",
       "      <td>85</td>\n",
       "      <td>100</td>\n",
       "      <td>R</td>\n",
       "    </tr>\n",
       "    <tr>\n",
       "      <th>7</th>\n",
       "      <td>#8</td>\n",
       "      <td>Poppy</td>\n",
       "      <td>A1</td>\n",
       "      <td>180</td>\n",
       "      <td>80</td>\n",
       "      <td>90</td>\n",
       "      <td>70</td>\n",
       "      <td>89</td>\n",
       "      <td>Python</td>\n",
       "    </tr>\n",
       "  </tbody>\n",
       "</table>\n",
       "</div>"
      ],
      "text/plain": [
       "  Application Number   Name School  Height  English  Math  Biology  Finance  \\\n",
       "0                 #1    Ian     A1     178       90   100       88       95   \n",
       "1                 #2  Jason     A2     198      100    82       78       88   \n",
       "2                 #3  Smith     A2     168       85    87       90       75   \n",
       "3                 #4   John     A1     188       70    65       95       92   \n",
       "4                 #5   Kara     A1     201       82    78       88       84   \n",
       "5                 #6  Daisy     A1     172       91    80       76       80   \n",
       "6                 #7   Jack     A2     174       77    50       85      100   \n",
       "7                 #8  Poppy     A1     180       80    90       70       89   \n",
       "\n",
       "   Coding  \n",
       "0  Python  \n",
       "1     NaN  \n",
       "2     C++  \n",
       "3    Java  \n",
       "4     NaN  \n",
       "5     NaN  \n",
       "6       R  \n",
       "7  Python  "
      ]
     },
     "execution_count": 3,
     "metadata": {},
     "output_type": "execute_result"
    }
   ],
   "source": [
    "df = pd.read_excel('../Pandas/score.xlsx')\n",
    "df"
   ]
  },
  {
   "cell_type": "code",
   "execution_count": 4,
   "id": "54933990",
   "metadata": {},
   "outputs": [],
   "source": [
    "import numpy as np"
   ]
  },
  {
   "cell_type": "code",
   "execution_count": 5,
   "id": "b0e6bda9",
   "metadata": {},
   "outputs": [
    {
     "data": {
      "text/plain": [
       "array([0, 1, 2, 3, 4])"
      ]
     },
     "execution_count": 5,
     "metadata": {},
     "output_type": "execute_result"
    }
   ],
   "source": [
    "np.arange(5)"
   ]
  },
  {
   "cell_type": "code",
   "execution_count": 6,
   "id": "e64f2814",
   "metadata": {},
   "outputs": [
    {
     "data": {
      "text/plain": [
       "array([0, 1, 2, 3, 4])"
      ]
     },
     "execution_count": 6,
     "metadata": {},
     "output_type": "execute_result"
    }
   ],
   "source": [
    "arr = np.arange(5)\n",
    "arr"
   ]
  },
  {
   "cell_type": "code",
   "execution_count": 7,
   "id": "ecdd1959",
   "metadata": {},
   "outputs": [
    {
     "data": {
      "text/plain": [
       "array([100, 101, 102, 103, 104])"
      ]
     },
     "execution_count": 7,
     "metadata": {},
     "output_type": "execute_result"
    }
   ],
   "source": [
    "arr + 100"
   ]
  },
  {
   "cell_type": "code",
   "execution_count": 8,
   "id": "8e8ec992",
   "metadata": {},
   "outputs": [
    {
     "data": {
      "text/plain": [
       "array([ 0,  5, 10, 15, 20])"
      ]
     },
     "execution_count": 8,
     "metadata": {},
     "output_type": "execute_result"
    }
   ],
   "source": [
    "arr * 5"
   ]
  },
  {
   "cell_type": "code",
   "execution_count": 9,
   "id": "8aa878ab",
   "metadata": {},
   "outputs": [
    {
     "data": {
      "text/plain": [
       "8"
      ]
     },
     "execution_count": 9,
     "metadata": {},
     "output_type": "execute_result"
    }
   ],
   "source": [
    "N = df.shape[0]\n",
    "N"
   ]
  },
  {
   "cell_type": "code",
   "execution_count": 10,
   "id": "c50225c2",
   "metadata": {},
   "outputs": [
    {
     "data": {
      "text/plain": [
       "array([0, 1, 2, 3, 4, 5, 6, 7])"
      ]
     },
     "execution_count": 10,
     "metadata": {},
     "output_type": "execute_result"
    }
   ],
   "source": [
    "index = np.arange(N)\n",
    "index"
   ]
  },
  {
   "cell_type": "code",
   "execution_count": 11,
   "id": "2b3e1c42",
   "metadata": {},
   "outputs": [
    {
     "data": {
      "text/plain": [
       "<BarContainer object of 8 artists>"
      ]
     },
     "execution_count": 11,
     "metadata": {},
     "output_type": "execute_result"
    },
    {
     "data": {
      "image/png": "[encoded data removed]",
      "text/plain": [
       "<Figure size 432x288 with 1 Axes>"
      ]
     },
     "metadata": {
      "needs_background": "light"
     },
     "output_type": "display_data"
    }
   ],
   "source": [
    "w = 0.25\n",
    "plt.bar(index - w, df['English'])\n",
    "plt.bar(index, df['Math'])\n",
    "plt.bar(index + w, df['Finance'])"
   ]
  },
  {
   "cell_type": "code",
   "execution_count": 12,
   "id": "4c7bed04",
   "metadata": {},
   "outputs": [
    {
     "data": {
      "text/plain": [
       "<BarContainer object of 8 artists>"
      ]
     },
     "execution_count": 12,
     "metadata": {},
     "output_type": "execute_result"
    },
    {
     "data": {
      "image/png": "[encoded data removed]",
      "text/plain": [
       "<Figure size 432x288 with 1 Axes>"
      ]
     },
     "metadata": {
      "needs_background": "light"
     },
     "output_type": "display_data"
    }
   ],
   "source": [
    "w = 0.25\n",
    "plt.bar(index - w, df['English'], width=w)\n",
    "plt.bar(index, df['Math'], width=w)\n",
    "plt.bar(index + w, df['Finance'], width=w)"
   ]
  },
  {
   "cell_type": "code",
   "execution_count": 13,
   "id": "daa1a796",
   "metadata": {},
   "outputs": [
    {
     "data": {
      "text/plain": [
       "<matplotlib.legend.Legend at 0x7fe85fbeb190>"
      ]
     },
     "execution_count": 13,
     "metadata": {},
     "output_type": "execute_result"
    },
    {
     "data": {
      "image/png": "[encoded data removed]",
      "text/plain": [
       "<Figure size 432x288 with 1 Axes>"
      ]
     },
     "metadata": {
      "needs_background": "light"
     },
     "output_type": "display_data"
    }
   ],
   "source": [
    "w = 0.25\n",
    "plt.bar(index - w, df['English'], width=w, label='English')\n",
    "plt.bar(index, df['Math'], width=w, label='Math')\n",
    "plt.bar(index + w, df['Finance'], width=w, label='Finance')\n",
    "plt.legend(ncol=3)"
   ]
  },
  {
   "cell_type": "code",
   "execution_count": 14,
   "id": "efcc6e8d",
   "metadata": {},
   "outputs": [
    {
     "data": {
      "image/png": "[encoded data removed]",
      "text/plain": [
       "<Figure size 720x720 with 1 Axes>"
      ]
     },
     "metadata": {
      "needs_background": "light"
     },
     "output_type": "display_data"
    }
   ],
   "source": [
    "plt.figure(figsize=(10,10))\n",
    "plt.title('Test Score Comparison')\n",
    "w = 0.25\n",
    "plt.bar(index - w, df['English'], width=w, label='English')\n",
    "plt.bar(index, df['Math'], width=w, label='Math')\n",
    "plt.bar(index + w, df['Finance'], width=w, label='Finance')\n",
    "plt.legend(ncol=3)\n",
    "plt.xticks(index, df['Name'], rotation=45)\n",
    "plt.show()"
   ]
  }
 ],
 "metadata": {
  "kernelspec": {
   "display_name": "Python 3 (ipykernel)",
   "language": "python",
   "name": "python3"
  },
  "language_info": {
   "codemirror_mode": {
    "name": "ipython",
    "version": 3
   },
   "file_extension": ".py",
   "mimetype": "text/x-python",
   "name": "python",
   "nbconvert_exporter": "python",
   "pygments_lexer": "ipython3",
   "version": "3.9.12"
  }
 },
 "nbformat": 4,
 "nbformat_minor": 5
}
