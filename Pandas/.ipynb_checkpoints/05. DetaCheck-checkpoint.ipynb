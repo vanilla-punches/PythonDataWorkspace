{
 "cells": [
  {
   "cell_type": "markdown",
   "id": "fd27d448",
   "metadata": {},
   "source": [
    "# 5. Data Check"
   ]
  },
  {
   "cell_type": "code",
   "execution_count": 1,
   "id": "b6048489",
   "metadata": {},
   "outputs": [
    {
     "data": {
      "text/html": [
       "<div>\n",
       "<style scoped>\n",
       "    .dataframe tbody tr th:only-of-type {\n",
       "        vertical-align: middle;\n",
       "    }\n",
       "\n",
       "    .dataframe tbody tr th {\n",
       "        vertical-align: top;\n",
       "    }\n",
       "\n",
       "    .dataframe thead th {\n",
       "        text-align: right;\n",
       "    }\n",
       "</style>\n",
       "<table border=\"1\" class=\"dataframe\">\n",
       "  <thead>\n",
       "    <tr style=\"text-align: right;\">\n",
       "      <th></th>\n",
       "      <th>Name</th>\n",
       "      <th>School</th>\n",
       "      <th>Height</th>\n",
       "      <th>English</th>\n",
       "      <th>Math</th>\n",
       "      <th>Biology</th>\n",
       "      <th>Finance</th>\n",
       "      <th>Coding</th>\n",
       "    </tr>\n",
       "    <tr>\n",
       "      <th>Application Number</th>\n",
       "      <th></th>\n",
       "      <th></th>\n",
       "      <th></th>\n",
       "      <th></th>\n",
       "      <th></th>\n",
       "      <th></th>\n",
       "      <th></th>\n",
       "      <th></th>\n",
       "    </tr>\n",
       "  </thead>\n",
       "  <tbody>\n",
       "    <tr>\n",
       "      <th>#1</th>\n",
       "      <td>Ian</td>\n",
       "      <td>A1</td>\n",
       "      <td>178</td>\n",
       "      <td>90</td>\n",
       "      <td>100</td>\n",
       "      <td>88</td>\n",
       "      <td>95</td>\n",
       "      <td>Python</td>\n",
       "    </tr>\n",
       "    <tr>\n",
       "      <th>#2</th>\n",
       "      <td>Jason</td>\n",
       "      <td>A2</td>\n",
       "      <td>198</td>\n",
       "      <td>100</td>\n",
       "      <td>82</td>\n",
       "      <td>78</td>\n",
       "      <td>88</td>\n",
       "      <td>NaN</td>\n",
       "    </tr>\n",
       "    <tr>\n",
       "      <th>#3</th>\n",
       "      <td>Smith</td>\n",
       "      <td>A2</td>\n",
       "      <td>168</td>\n",
       "      <td>85</td>\n",
       "      <td>87</td>\n",
       "      <td>90</td>\n",
       "      <td>75</td>\n",
       "      <td>C++</td>\n",
       "    </tr>\n",
       "    <tr>\n",
       "      <th>#4</th>\n",
       "      <td>John</td>\n",
       "      <td>A1</td>\n",
       "      <td>188</td>\n",
       "      <td>70</td>\n",
       "      <td>65</td>\n",
       "      <td>95</td>\n",
       "      <td>92</td>\n",
       "      <td>Java</td>\n",
       "    </tr>\n",
       "    <tr>\n",
       "      <th>#5</th>\n",
       "      <td>Kara</td>\n",
       "      <td>A1</td>\n",
       "      <td>201</td>\n",
       "      <td>82</td>\n",
       "      <td>78</td>\n",
       "      <td>88</td>\n",
       "      <td>84</td>\n",
       "      <td>NaN</td>\n",
       "    </tr>\n",
       "    <tr>\n",
       "      <th>#6</th>\n",
       "      <td>Daisy</td>\n",
       "      <td>A1</td>\n",
       "      <td>172</td>\n",
       "      <td>91</td>\n",
       "      <td>80</td>\n",
       "      <td>76</td>\n",
       "      <td>80</td>\n",
       "      <td>NaN</td>\n",
       "    </tr>\n",
       "    <tr>\n",
       "      <th>#7</th>\n",
       "      <td>Jack</td>\n",
       "      <td>A2</td>\n",
       "      <td>174</td>\n",
       "      <td>77</td>\n",
       "      <td>50</td>\n",
       "      <td>85</td>\n",
       "      <td>100</td>\n",
       "      <td>R</td>\n",
       "    </tr>\n",
       "    <tr>\n",
       "      <th>#8</th>\n",
       "      <td>Poppy</td>\n",
       "      <td>A1</td>\n",
       "      <td>180</td>\n",
       "      <td>80</td>\n",
       "      <td>90</td>\n",
       "      <td>70</td>\n",
       "      <td>89</td>\n",
       "      <td>Python</td>\n",
       "    </tr>\n",
       "  </tbody>\n",
       "</table>\n",
       "</div>"
      ],
      "text/plain": [
       "                     Name School  Height  English  Math  Biology  Finance  \\\n",
       "Application Number                                                          \n",
       "#1                    Ian     A1     178       90   100       88       95   \n",
       "#2                  Jason     A2     198      100    82       78       88   \n",
       "#3                  Smith     A2     168       85    87       90       75   \n",
       "#4                   John     A1     188       70    65       95       92   \n",
       "#5                   Kara     A1     201       82    78       88       84   \n",
       "#6                  Daisy     A1     172       91    80       76       80   \n",
       "#7                   Jack     A2     174       77    50       85      100   \n",
       "#8                  Poppy     A1     180       80    90       70       89   \n",
       "\n",
       "                    Coding  \n",
       "Application Number          \n",
       "#1                  Python  \n",
       "#2                     NaN  \n",
       "#3                     C++  \n",
       "#4                    Java  \n",
       "#5                     NaN  \n",
       "#6                     NaN  \n",
       "#7                       R  \n",
       "#8                  Python  "
      ]
     },
     "execution_count": 1,
     "metadata": {},
     "output_type": "execute_result"
    }
   ],
   "source": [
    "import pandas as pd\n",
    "df = pd.read_excel('score.xlsx', index_col='Application Number')\n",
    "df"
   ]
  },
  {
   "cell_type": "markdown",
   "id": "beb2b4b5",
   "metadata": {},
   "source": [
    "## DataFrame check\n",
    "Provide statistical info by column"
   ]
  },
  {
   "cell_type": "code",
   "execution_count": 2,
   "id": "e991d546",
   "metadata": {},
   "outputs": [
    {
     "data": {
      "text/html": [
       "<div>\n",
       "<style scoped>\n",
       "    .dataframe tbody tr th:only-of-type {\n",
       "        vertical-align: middle;\n",
       "    }\n",
       "\n",
       "    .dataframe tbody tr th {\n",
       "        vertical-align: top;\n",
       "    }\n",
       "\n",
       "    .dataframe thead th {\n",
       "        text-align: right;\n",
       "    }\n",
       "</style>\n",
       "<table border=\"1\" class=\"dataframe\">\n",
       "  <thead>\n",
       "    <tr style=\"text-align: right;\">\n",
       "      <th></th>\n",
       "      <th>Height</th>\n",
       "      <th>English</th>\n",
       "      <th>Math</th>\n",
       "      <th>Biology</th>\n",
       "      <th>Finance</th>\n",
       "    </tr>\n",
       "  </thead>\n",
       "  <tbody>\n",
       "    <tr>\n",
       "      <th>count</th>\n",
       "      <td>8.000000</td>\n",
       "      <td>8.000000</td>\n",
       "      <td>8.000000</td>\n",
       "      <td>8.000000</td>\n",
       "      <td>8.000000</td>\n",
       "    </tr>\n",
       "    <tr>\n",
       "      <th>mean</th>\n",
       "      <td>182.375000</td>\n",
       "      <td>84.375000</td>\n",
       "      <td>79.000000</td>\n",
       "      <td>83.750000</td>\n",
       "      <td>87.875000</td>\n",
       "    </tr>\n",
       "    <tr>\n",
       "      <th>std</th>\n",
       "      <td>12.141281</td>\n",
       "      <td>9.303417</td>\n",
       "      <td>15.464244</td>\n",
       "      <td>8.328094</td>\n",
       "      <td>8.096516</td>\n",
       "    </tr>\n",
       "    <tr>\n",
       "      <th>min</th>\n",
       "      <td>168.000000</td>\n",
       "      <td>70.000000</td>\n",
       "      <td>50.000000</td>\n",
       "      <td>70.000000</td>\n",
       "      <td>75.000000</td>\n",
       "    </tr>\n",
       "    <tr>\n",
       "      <th>25%</th>\n",
       "      <td>173.500000</td>\n",
       "      <td>79.250000</td>\n",
       "      <td>74.750000</td>\n",
       "      <td>77.500000</td>\n",
       "      <td>83.000000</td>\n",
       "    </tr>\n",
       "    <tr>\n",
       "      <th>50%</th>\n",
       "      <td>179.000000</td>\n",
       "      <td>83.500000</td>\n",
       "      <td>81.000000</td>\n",
       "      <td>86.500000</td>\n",
       "      <td>88.500000</td>\n",
       "    </tr>\n",
       "    <tr>\n",
       "      <th>75%</th>\n",
       "      <td>190.500000</td>\n",
       "      <td>90.250000</td>\n",
       "      <td>87.750000</td>\n",
       "      <td>88.500000</td>\n",
       "      <td>92.750000</td>\n",
       "    </tr>\n",
       "    <tr>\n",
       "      <th>max</th>\n",
       "      <td>201.000000</td>\n",
       "      <td>100.000000</td>\n",
       "      <td>100.000000</td>\n",
       "      <td>95.000000</td>\n",
       "      <td>100.000000</td>\n",
       "    </tr>\n",
       "  </tbody>\n",
       "</table>\n",
       "</div>"
      ],
      "text/plain": [
       "           Height     English        Math    Biology     Finance\n",
       "count    8.000000    8.000000    8.000000   8.000000    8.000000\n",
       "mean   182.375000   84.375000   79.000000  83.750000   87.875000\n",
       "std     12.141281    9.303417   15.464244   8.328094    8.096516\n",
       "min    168.000000   70.000000   50.000000  70.000000   75.000000\n",
       "25%    173.500000   79.250000   74.750000  77.500000   83.000000\n",
       "50%    179.000000   83.500000   81.000000  86.500000   88.500000\n",
       "75%    190.500000   90.250000   87.750000  88.500000   92.750000\n",
       "max    201.000000  100.000000  100.000000  95.000000  100.000000"
      ]
     },
     "execution_count": 2,
     "metadata": {},
     "output_type": "execute_result"
    }
   ],
   "source": [
    "df.describe()"
   ]
  },
  {
   "cell_type": "code",
   "execution_count": 3,
   "id": "a18f65af",
   "metadata": {},
   "outputs": [
    {
     "name": "stdout",
     "output_type": "stream",
     "text": [
      "<class 'pandas.core.frame.DataFrame'>\n",
      "Index: 8 entries, #1 to #8\n",
      "Data columns (total 8 columns):\n",
      " #   Column   Non-Null Count  Dtype \n",
      "---  ------   --------------  ----- \n",
      " 0   Name     8 non-null      object\n",
      " 1   School   8 non-null      object\n",
      " 2   Height   8 non-null      int64 \n",
      " 3   English  8 non-null      int64 \n",
      " 4   Math     8 non-null      int64 \n",
      " 5   Biology  8 non-null      int64 \n",
      " 6   Finance  8 non-null      int64 \n",
      " 7   Coding   5 non-null      object\n",
      "dtypes: int64(5), object(3)\n",
      "memory usage: 576.0+ bytes\n"
     ]
    }
   ],
   "source": [
    "df.info()"
   ]
  },
  {
   "cell_type": "code",
   "execution_count": 4,
   "id": "601b643e",
   "metadata": {},
   "outputs": [
    {
     "data": {
      "text/html": [
       "<div>\n",
       "<style scoped>\n",
       "    .dataframe tbody tr th:only-of-type {\n",
       "        vertical-align: middle;\n",
       "    }\n",
       "\n",
       "    .dataframe tbody tr th {\n",
       "        vertical-align: top;\n",
       "    }\n",
       "\n",
       "    .dataframe thead th {\n",
       "        text-align: right;\n",
       "    }\n",
       "</style>\n",
       "<table border=\"1\" class=\"dataframe\">\n",
       "  <thead>\n",
       "    <tr style=\"text-align: right;\">\n",
       "      <th></th>\n",
       "      <th>Name</th>\n",
       "      <th>School</th>\n",
       "      <th>Height</th>\n",
       "      <th>English</th>\n",
       "      <th>Math</th>\n",
       "      <th>Biology</th>\n",
       "      <th>Finance</th>\n",
       "      <th>Coding</th>\n",
       "    </tr>\n",
       "    <tr>\n",
       "      <th>Application Number</th>\n",
       "      <th></th>\n",
       "      <th></th>\n",
       "      <th></th>\n",
       "      <th></th>\n",
       "      <th></th>\n",
       "      <th></th>\n",
       "      <th></th>\n",
       "      <th></th>\n",
       "    </tr>\n",
       "  </thead>\n",
       "  <tbody>\n",
       "    <tr>\n",
       "      <th>#1</th>\n",
       "      <td>Ian</td>\n",
       "      <td>A1</td>\n",
       "      <td>178</td>\n",
       "      <td>90</td>\n",
       "      <td>100</td>\n",
       "      <td>88</td>\n",
       "      <td>95</td>\n",
       "      <td>Python</td>\n",
       "    </tr>\n",
       "    <tr>\n",
       "      <th>#2</th>\n",
       "      <td>Jason</td>\n",
       "      <td>A2</td>\n",
       "      <td>198</td>\n",
       "      <td>100</td>\n",
       "      <td>82</td>\n",
       "      <td>78</td>\n",
       "      <td>88</td>\n",
       "      <td>NaN</td>\n",
       "    </tr>\n",
       "    <tr>\n",
       "      <th>#3</th>\n",
       "      <td>Smith</td>\n",
       "      <td>A2</td>\n",
       "      <td>168</td>\n",
       "      <td>85</td>\n",
       "      <td>87</td>\n",
       "      <td>90</td>\n",
       "      <td>75</td>\n",
       "      <td>C++</td>\n",
       "    </tr>\n",
       "    <tr>\n",
       "      <th>#4</th>\n",
       "      <td>John</td>\n",
       "      <td>A1</td>\n",
       "      <td>188</td>\n",
       "      <td>70</td>\n",
       "      <td>65</td>\n",
       "      <td>95</td>\n",
       "      <td>92</td>\n",
       "      <td>Java</td>\n",
       "    </tr>\n",
       "    <tr>\n",
       "      <th>#5</th>\n",
       "      <td>Kara</td>\n",
       "      <td>A1</td>\n",
       "      <td>201</td>\n",
       "      <td>82</td>\n",
       "      <td>78</td>\n",
       "      <td>88</td>\n",
       "      <td>84</td>\n",
       "      <td>NaN</td>\n",
       "    </tr>\n",
       "  </tbody>\n",
       "</table>\n",
       "</div>"
      ],
      "text/plain": [
       "                     Name School  Height  English  Math  Biology  Finance  \\\n",
       "Application Number                                                          \n",
       "#1                    Ian     A1     178       90   100       88       95   \n",
       "#2                  Jason     A2     198      100    82       78       88   \n",
       "#3                  Smith     A2     168       85    87       90       75   \n",
       "#4                   John     A1     188       70    65       95       92   \n",
       "#5                   Kara     A1     201       82    78       88       84   \n",
       "\n",
       "                    Coding  \n",
       "Application Number          \n",
       "#1                  Python  \n",
       "#2                     NaN  \n",
       "#3                     C++  \n",
       "#4                    Java  \n",
       "#5                     NaN  "
      ]
     },
     "execution_count": 4,
     "metadata": {},
     "output_type": "execute_result"
    }
   ],
   "source": [
    "df.head() # First 5 rows"
   ]
  },
  {
   "cell_type": "code",
   "execution_count": 5,
   "id": "1701b8af",
   "metadata": {},
   "outputs": [
    {
     "data": {
      "text/html": [
       "<div>\n",
       "<style scoped>\n",
       "    .dataframe tbody tr th:only-of-type {\n",
       "        vertical-align: middle;\n",
       "    }\n",
       "\n",
       "    .dataframe tbody tr th {\n",
       "        vertical-align: top;\n",
       "    }\n",
       "\n",
       "    .dataframe thead th {\n",
       "        text-align: right;\n",
       "    }\n",
       "</style>\n",
       "<table border=\"1\" class=\"dataframe\">\n",
       "  <thead>\n",
       "    <tr style=\"text-align: right;\">\n",
       "      <th></th>\n",
       "      <th>Name</th>\n",
       "      <th>School</th>\n",
       "      <th>Height</th>\n",
       "      <th>English</th>\n",
       "      <th>Math</th>\n",
       "      <th>Biology</th>\n",
       "      <th>Finance</th>\n",
       "      <th>Coding</th>\n",
       "    </tr>\n",
       "    <tr>\n",
       "      <th>Application Number</th>\n",
       "      <th></th>\n",
       "      <th></th>\n",
       "      <th></th>\n",
       "      <th></th>\n",
       "      <th></th>\n",
       "      <th></th>\n",
       "      <th></th>\n",
       "      <th></th>\n",
       "    </tr>\n",
       "  </thead>\n",
       "  <tbody>\n",
       "    <tr>\n",
       "      <th>#1</th>\n",
       "      <td>Ian</td>\n",
       "      <td>A1</td>\n",
       "      <td>178</td>\n",
       "      <td>90</td>\n",
       "      <td>100</td>\n",
       "      <td>88</td>\n",
       "      <td>95</td>\n",
       "      <td>Python</td>\n",
       "    </tr>\n",
       "    <tr>\n",
       "      <th>#2</th>\n",
       "      <td>Jason</td>\n",
       "      <td>A2</td>\n",
       "      <td>198</td>\n",
       "      <td>100</td>\n",
       "      <td>82</td>\n",
       "      <td>78</td>\n",
       "      <td>88</td>\n",
       "      <td>NaN</td>\n",
       "    </tr>\n",
       "    <tr>\n",
       "      <th>#3</th>\n",
       "      <td>Smith</td>\n",
       "      <td>A2</td>\n",
       "      <td>168</td>\n",
       "      <td>85</td>\n",
       "      <td>87</td>\n",
       "      <td>90</td>\n",
       "      <td>75</td>\n",
       "      <td>C++</td>\n",
       "    </tr>\n",
       "    <tr>\n",
       "      <th>#4</th>\n",
       "      <td>John</td>\n",
       "      <td>A1</td>\n",
       "      <td>188</td>\n",
       "      <td>70</td>\n",
       "      <td>65</td>\n",
       "      <td>95</td>\n",
       "      <td>92</td>\n",
       "      <td>Java</td>\n",
       "    </tr>\n",
       "    <tr>\n",
       "      <th>#5</th>\n",
       "      <td>Kara</td>\n",
       "      <td>A1</td>\n",
       "      <td>201</td>\n",
       "      <td>82</td>\n",
       "      <td>78</td>\n",
       "      <td>88</td>\n",
       "      <td>84</td>\n",
       "      <td>NaN</td>\n",
       "    </tr>\n",
       "    <tr>\n",
       "      <th>#6</th>\n",
       "      <td>Daisy</td>\n",
       "      <td>A1</td>\n",
       "      <td>172</td>\n",
       "      <td>91</td>\n",
       "      <td>80</td>\n",
       "      <td>76</td>\n",
       "      <td>80</td>\n",
       "      <td>NaN</td>\n",
       "    </tr>\n",
       "    <tr>\n",
       "      <th>#7</th>\n",
       "      <td>Jack</td>\n",
       "      <td>A2</td>\n",
       "      <td>174</td>\n",
       "      <td>77</td>\n",
       "      <td>50</td>\n",
       "      <td>85</td>\n",
       "      <td>100</td>\n",
       "      <td>R</td>\n",
       "    </tr>\n",
       "  </tbody>\n",
       "</table>\n",
       "</div>"
      ],
      "text/plain": [
       "                     Name School  Height  English  Math  Biology  Finance  \\\n",
       "Application Number                                                          \n",
       "#1                    Ian     A1     178       90   100       88       95   \n",
       "#2                  Jason     A2     198      100    82       78       88   \n",
       "#3                  Smith     A2     168       85    87       90       75   \n",
       "#4                   John     A1     188       70    65       95       92   \n",
       "#5                   Kara     A1     201       82    78       88       84   \n",
       "#6                  Daisy     A1     172       91    80       76       80   \n",
       "#7                   Jack     A2     174       77    50       85      100   \n",
       "\n",
       "                    Coding  \n",
       "Application Number          \n",
       "#1                  Python  \n",
       "#2                     NaN  \n",
       "#3                     C++  \n",
       "#4                    Java  \n",
       "#5                     NaN  \n",
       "#6                     NaN  \n",
       "#7                       R  "
      ]
     },
     "execution_count": 5,
     "metadata": {},
     "output_type": "execute_result"
    }
   ],
   "source": [
    "df.head(7)"
   ]
  },
  {
   "cell_type": "code",
   "execution_count": 6,
   "id": "eb07e8cc",
   "metadata": {},
   "outputs": [
    {
     "data": {
      "text/html": [
       "<div>\n",
       "<style scoped>\n",
       "    .dataframe tbody tr th:only-of-type {\n",
       "        vertical-align: middle;\n",
       "    }\n",
       "\n",
       "    .dataframe tbody tr th {\n",
       "        vertical-align: top;\n",
       "    }\n",
       "\n",
       "    .dataframe thead th {\n",
       "        text-align: right;\n",
       "    }\n",
       "</style>\n",
       "<table border=\"1\" class=\"dataframe\">\n",
       "  <thead>\n",
       "    <tr style=\"text-align: right;\">\n",
       "      <th></th>\n",
       "      <th>Name</th>\n",
       "      <th>School</th>\n",
       "      <th>Height</th>\n",
       "      <th>English</th>\n",
       "      <th>Math</th>\n",
       "      <th>Biology</th>\n",
       "      <th>Finance</th>\n",
       "      <th>Coding</th>\n",
       "    </tr>\n",
       "    <tr>\n",
       "      <th>Application Number</th>\n",
       "      <th></th>\n",
       "      <th></th>\n",
       "      <th></th>\n",
       "      <th></th>\n",
       "      <th></th>\n",
       "      <th></th>\n",
       "      <th></th>\n",
       "      <th></th>\n",
       "    </tr>\n",
       "  </thead>\n",
       "  <tbody>\n",
       "    <tr>\n",
       "      <th>#4</th>\n",
       "      <td>John</td>\n",
       "      <td>A1</td>\n",
       "      <td>188</td>\n",
       "      <td>70</td>\n",
       "      <td>65</td>\n",
       "      <td>95</td>\n",
       "      <td>92</td>\n",
       "      <td>Java</td>\n",
       "    </tr>\n",
       "    <tr>\n",
       "      <th>#5</th>\n",
       "      <td>Kara</td>\n",
       "      <td>A1</td>\n",
       "      <td>201</td>\n",
       "      <td>82</td>\n",
       "      <td>78</td>\n",
       "      <td>88</td>\n",
       "      <td>84</td>\n",
       "      <td>NaN</td>\n",
       "    </tr>\n",
       "    <tr>\n",
       "      <th>#6</th>\n",
       "      <td>Daisy</td>\n",
       "      <td>A1</td>\n",
       "      <td>172</td>\n",
       "      <td>91</td>\n",
       "      <td>80</td>\n",
       "      <td>76</td>\n",
       "      <td>80</td>\n",
       "      <td>NaN</td>\n",
       "    </tr>\n",
       "    <tr>\n",
       "      <th>#7</th>\n",
       "      <td>Jack</td>\n",
       "      <td>A2</td>\n",
       "      <td>174</td>\n",
       "      <td>77</td>\n",
       "      <td>50</td>\n",
       "      <td>85</td>\n",
       "      <td>100</td>\n",
       "      <td>R</td>\n",
       "    </tr>\n",
       "    <tr>\n",
       "      <th>#8</th>\n",
       "      <td>Poppy</td>\n",
       "      <td>A1</td>\n",
       "      <td>180</td>\n",
       "      <td>80</td>\n",
       "      <td>90</td>\n",
       "      <td>70</td>\n",
       "      <td>89</td>\n",
       "      <td>Python</td>\n",
       "    </tr>\n",
       "  </tbody>\n",
       "</table>\n",
       "</div>"
      ],
      "text/plain": [
       "                     Name School  Height  English  Math  Biology  Finance  \\\n",
       "Application Number                                                          \n",
       "#4                   John     A1     188       70    65       95       92   \n",
       "#5                   Kara     A1     201       82    78       88       84   \n",
       "#6                  Daisy     A1     172       91    80       76       80   \n",
       "#7                   Jack     A2     174       77    50       85      100   \n",
       "#8                  Poppy     A1     180       80    90       70       89   \n",
       "\n",
       "                    Coding  \n",
       "Application Number          \n",
       "#4                    Java  \n",
       "#5                     NaN  \n",
       "#6                     NaN  \n",
       "#7                       R  \n",
       "#8                  Python  "
      ]
     },
     "execution_count": 6,
     "metadata": {},
     "output_type": "execute_result"
    }
   ],
   "source": [
    "df.tail() # Last 5 rows"
   ]
  },
  {
   "cell_type": "code",
   "execution_count": 7,
   "id": "3358990c",
   "metadata": {},
   "outputs": [
    {
     "data": {
      "text/plain": [
       "array([['Ian', 'A1', 178, 90, 100, 88, 95, 'Python'],\n",
       "       ['Jason', 'A2', 198, 100, 82, 78, 88, nan],\n",
       "       ['Smith', 'A2', 168, 85, 87, 90, 75, 'C++'],\n",
       "       ['John', 'A1', 188, 70, 65, 95, 92, 'Java'],\n",
       "       ['Kara', 'A1', 201, 82, 78, 88, 84, nan],\n",
       "       ['Daisy', 'A1', 172, 91, 80, 76, 80, nan],\n",
       "       ['Jack', 'A2', 174, 77, 50, 85, 100, 'R'],\n",
       "       ['Poppy', 'A1', 180, 80, 90, 70, 89, 'Python']], dtype=object)"
      ]
     },
     "execution_count": 7,
     "metadata": {},
     "output_type": "execute_result"
    }
   ],
   "source": [
    "df.values"
   ]
  },
  {
   "cell_type": "code",
   "execution_count": 8,
   "id": "1cb099d2",
   "metadata": {},
   "outputs": [
    {
     "data": {
      "text/plain": [
       "Index(['#1', '#2', '#3', '#4', '#5', '#6', '#7', '#8'], dtype='object', name='Application Number')"
      ]
     },
     "execution_count": 8,
     "metadata": {},
     "output_type": "execute_result"
    }
   ],
   "source": [
    "df.index"
   ]
  },
  {
   "cell_type": "code",
   "execution_count": 9,
   "id": "1e29425d",
   "metadata": {},
   "outputs": [
    {
     "data": {
      "text/plain": [
       "Index(['Name', 'School', 'Height', 'English', 'Math', 'Biology', 'Finance',\n",
       "       'Coding'],\n",
       "      dtype='object')"
      ]
     },
     "execution_count": 9,
     "metadata": {},
     "output_type": "execute_result"
    }
   ],
   "source": [
    "df.columns"
   ]
  },
  {
   "cell_type": "code",
   "execution_count": 10,
   "id": "686fe827",
   "metadata": {},
   "outputs": [
    {
     "data": {
      "text/html": [
       "<div>\n",
       "<style scoped>\n",
       "    .dataframe tbody tr th:only-of-type {\n",
       "        vertical-align: middle;\n",
       "    }\n",
       "\n",
       "    .dataframe tbody tr th {\n",
       "        vertical-align: top;\n",
       "    }\n",
       "\n",
       "    .dataframe thead th {\n",
       "        text-align: right;\n",
       "    }\n",
       "</style>\n",
       "<table border=\"1\" class=\"dataframe\">\n",
       "  <thead>\n",
       "    <tr style=\"text-align: right;\">\n",
       "      <th></th>\n",
       "      <th>Name</th>\n",
       "      <th>School</th>\n",
       "      <th>Height</th>\n",
       "      <th>English</th>\n",
       "      <th>Math</th>\n",
       "      <th>Biology</th>\n",
       "      <th>Finance</th>\n",
       "      <th>Coding</th>\n",
       "    </tr>\n",
       "    <tr>\n",
       "      <th>Application Number</th>\n",
       "      <th></th>\n",
       "      <th></th>\n",
       "      <th></th>\n",
       "      <th></th>\n",
       "      <th></th>\n",
       "      <th></th>\n",
       "      <th></th>\n",
       "      <th></th>\n",
       "    </tr>\n",
       "  </thead>\n",
       "  <tbody>\n",
       "    <tr>\n",
       "      <th>#1</th>\n",
       "      <td>Ian</td>\n",
       "      <td>A1</td>\n",
       "      <td>178</td>\n",
       "      <td>90</td>\n",
       "      <td>100</td>\n",
       "      <td>88</td>\n",
       "      <td>95</td>\n",
       "      <td>Python</td>\n",
       "    </tr>\n",
       "    <tr>\n",
       "      <th>#2</th>\n",
       "      <td>Jason</td>\n",
       "      <td>A2</td>\n",
       "      <td>198</td>\n",
       "      <td>100</td>\n",
       "      <td>82</td>\n",
       "      <td>78</td>\n",
       "      <td>88</td>\n",
       "      <td>NaN</td>\n",
       "    </tr>\n",
       "    <tr>\n",
       "      <th>#3</th>\n",
       "      <td>Smith</td>\n",
       "      <td>A2</td>\n",
       "      <td>168</td>\n",
       "      <td>85</td>\n",
       "      <td>87</td>\n",
       "      <td>90</td>\n",
       "      <td>75</td>\n",
       "      <td>C++</td>\n",
       "    </tr>\n",
       "    <tr>\n",
       "      <th>#4</th>\n",
       "      <td>John</td>\n",
       "      <td>A1</td>\n",
       "      <td>188</td>\n",
       "      <td>70</td>\n",
       "      <td>65</td>\n",
       "      <td>95</td>\n",
       "      <td>92</td>\n",
       "      <td>Java</td>\n",
       "    </tr>\n",
       "    <tr>\n",
       "      <th>#5</th>\n",
       "      <td>Kara</td>\n",
       "      <td>A1</td>\n",
       "      <td>201</td>\n",
       "      <td>82</td>\n",
       "      <td>78</td>\n",
       "      <td>88</td>\n",
       "      <td>84</td>\n",
       "      <td>NaN</td>\n",
       "    </tr>\n",
       "    <tr>\n",
       "      <th>#6</th>\n",
       "      <td>Daisy</td>\n",
       "      <td>A1</td>\n",
       "      <td>172</td>\n",
       "      <td>91</td>\n",
       "      <td>80</td>\n",
       "      <td>76</td>\n",
       "      <td>80</td>\n",
       "      <td>NaN</td>\n",
       "    </tr>\n",
       "    <tr>\n",
       "      <th>#7</th>\n",
       "      <td>Jack</td>\n",
       "      <td>A2</td>\n",
       "      <td>174</td>\n",
       "      <td>77</td>\n",
       "      <td>50</td>\n",
       "      <td>85</td>\n",
       "      <td>100</td>\n",
       "      <td>R</td>\n",
       "    </tr>\n",
       "    <tr>\n",
       "      <th>#8</th>\n",
       "      <td>Poppy</td>\n",
       "      <td>A1</td>\n",
       "      <td>180</td>\n",
       "      <td>80</td>\n",
       "      <td>90</td>\n",
       "      <td>70</td>\n",
       "      <td>89</td>\n",
       "      <td>Python</td>\n",
       "    </tr>\n",
       "  </tbody>\n",
       "</table>\n",
       "</div>"
      ],
      "text/plain": [
       "                     Name School  Height  English  Math  Biology  Finance  \\\n",
       "Application Number                                                          \n",
       "#1                    Ian     A1     178       90   100       88       95   \n",
       "#2                  Jason     A2     198      100    82       78       88   \n",
       "#3                  Smith     A2     168       85    87       90       75   \n",
       "#4                   John     A1     188       70    65       95       92   \n",
       "#5                   Kara     A1     201       82    78       88       84   \n",
       "#6                  Daisy     A1     172       91    80       76       80   \n",
       "#7                   Jack     A2     174       77    50       85      100   \n",
       "#8                  Poppy     A1     180       80    90       70       89   \n",
       "\n",
       "                    Coding  \n",
       "Application Number          \n",
       "#1                  Python  \n",
       "#2                     NaN  \n",
       "#3                     C++  \n",
       "#4                    Java  \n",
       "#5                     NaN  \n",
       "#6                     NaN  \n",
       "#7                       R  \n",
       "#8                  Python  "
      ]
     },
     "execution_count": 10,
     "metadata": {},
     "output_type": "execute_result"
    }
   ],
   "source": [
    "df.shape # Size of row and column\n",
    "df"
   ]
  },
  {
   "cell_type": "markdown",
   "id": "3a13fc99",
   "metadata": {},
   "source": [
    "## Series check"
   ]
  },
  {
   "cell_type": "code",
   "execution_count": 11,
   "id": "f35e240b",
   "metadata": {},
   "outputs": [
    {
     "data": {
      "text/plain": [
       "count      8.000000\n",
       "mean     182.375000\n",
       "std       12.141281\n",
       "min      168.000000\n",
       "25%      173.500000\n",
       "50%      179.000000\n",
       "75%      190.500000\n",
       "max      201.000000\n",
       "Name: Height, dtype: float64"
      ]
     },
     "execution_count": 11,
     "metadata": {},
     "output_type": "execute_result"
    }
   ],
   "source": [
    "df['Height'].describe()"
   ]
  },
  {
   "cell_type": "code",
   "execution_count": 12,
   "id": "a70da2f6",
   "metadata": {},
   "outputs": [
    {
     "data": {
      "text/plain": [
       "168"
      ]
     },
     "execution_count": 12,
     "metadata": {},
     "output_type": "execute_result"
    }
   ],
   "source": [
    "df['Height'].min()"
   ]
  },
  {
   "cell_type": "code",
   "execution_count": 13,
   "id": "82e6ca27",
   "metadata": {},
   "outputs": [
    {
     "data": {
      "text/plain": [
       "201"
      ]
     },
     "execution_count": 13,
     "metadata": {},
     "output_type": "execute_result"
    }
   ],
   "source": [
    "df['Height'].max()"
   ]
  },
  {
   "cell_type": "code",
   "execution_count": 14,
   "id": "88659bf6",
   "metadata": {},
   "outputs": [
    {
     "data": {
      "text/plain": [
       "Application Number\n",
       "#5    201\n",
       "#2    198\n",
       "#4    188\n",
       "Name: Height, dtype: int64"
      ]
     },
     "execution_count": 14,
     "metadata": {},
     "output_type": "execute_result"
    }
   ],
   "source": [
    "df['Height'].nlargest(3)"
   ]
  },
  {
   "cell_type": "code",
   "execution_count": 15,
   "id": "bd885811",
   "metadata": {},
   "outputs": [
    {
     "data": {
      "text/plain": [
       "182.375"
      ]
     },
     "execution_count": 15,
     "metadata": {},
     "output_type": "execute_result"
    }
   ],
   "source": [
    "df['Height'].mean()"
   ]
  },
  {
   "cell_type": "code",
   "execution_count": 16,
   "id": "592324ff",
   "metadata": {},
   "outputs": [
    {
     "data": {
      "text/plain": [
       "1459"
      ]
     },
     "execution_count": 16,
     "metadata": {},
     "output_type": "execute_result"
    }
   ],
   "source": [
    "df['Height'].sum()"
   ]
  },
  {
   "cell_type": "code",
   "execution_count": 17,
   "id": "7332febc",
   "metadata": {},
   "outputs": [
    {
     "data": {
      "text/plain": [
       "5"
      ]
     },
     "execution_count": 17,
     "metadata": {},
     "output_type": "execute_result"
    }
   ],
   "source": [
    "df['Coding'].count()"
   ]
  },
  {
   "cell_type": "code",
   "execution_count": 18,
   "id": "3cc4cc5e",
   "metadata": {},
   "outputs": [
    {
     "data": {
      "text/plain": [
       "array(['Python', nan, 'C++', 'Java', 'R'], dtype=object)"
      ]
     },
     "execution_count": 18,
     "metadata": {},
     "output_type": "execute_result"
    }
   ],
   "source": [
    "df['Coding'].unique()"
   ]
  },
  {
   "cell_type": "code",
   "execution_count": 19,
   "id": "608518ae",
   "metadata": {},
   "outputs": [
    {
     "data": {
      "text/plain": [
       "4"
      ]
     },
     "execution_count": 19,
     "metadata": {},
     "output_type": "execute_result"
    }
   ],
   "source": [
    "df['Coding'].nunique()"
   ]
  }
 ],
 "metadata": {
  "kernelspec": {
   "display_name": "Python 3 (ipykernel)",
   "language": "python",
   "name": "python3"
  },
  "language_info": {
   "codemirror_mode": {
    "name": "ipython",
    "version": 3
   },
   "file_extension": ".py",
   "mimetype": "text/x-python",
   "name": "python",
   "nbconvert_exporter": "python",
   "pygments_lexer": "ipython3",
   "version": "3.9.12"
  }
 },
 "nbformat": 4,
 "nbformat_minor": 5
}
