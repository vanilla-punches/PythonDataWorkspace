{
 "cells": [
  {
   "cell_type": "markdown",
   "id": "426670d5",
   "metadata": {},
   "source": [
    "# Data Selection (iloc)\n",
    "Use location(integer) to choose row and column"
   ]
  },
  {
   "cell_type": "code",
   "execution_count": 1,
   "id": "8c3523a3",
   "metadata": {},
   "outputs": [
    {
     "data": {
      "text/html": [
       "<div>\n",
       "<style scoped>\n",
       "    .dataframe tbody tr th:only-of-type {\n",
       "        vertical-align: middle;\n",
       "    }\n",
       "\n",
       "    .dataframe tbody tr th {\n",
       "        vertical-align: top;\n",
       "    }\n",
       "\n",
       "    .dataframe thead th {\n",
       "        text-align: right;\n",
       "    }\n",
       "</style>\n",
       "<table border=\"1\" class=\"dataframe\">\n",
       "  <thead>\n",
       "    <tr style=\"text-align: right;\">\n",
       "      <th></th>\n",
       "      <th>Name</th>\n",
       "      <th>School</th>\n",
       "      <th>Height</th>\n",
       "      <th>English</th>\n",
       "      <th>Math</th>\n",
       "      <th>Biology</th>\n",
       "      <th>Finance</th>\n",
       "      <th>Coding</th>\n",
       "    </tr>\n",
       "    <tr>\n",
       "      <th>Application Number</th>\n",
       "      <th></th>\n",
       "      <th></th>\n",
       "      <th></th>\n",
       "      <th></th>\n",
       "      <th></th>\n",
       "      <th></th>\n",
       "      <th></th>\n",
       "      <th></th>\n",
       "    </tr>\n",
       "  </thead>\n",
       "  <tbody>\n",
       "    <tr>\n",
       "      <th>#1</th>\n",
       "      <td>Ian</td>\n",
       "      <td>A1</td>\n",
       "      <td>178</td>\n",
       "      <td>90</td>\n",
       "      <td>100</td>\n",
       "      <td>88</td>\n",
       "      <td>95</td>\n",
       "      <td>Python</td>\n",
       "    </tr>\n",
       "    <tr>\n",
       "      <th>#2</th>\n",
       "      <td>Jason</td>\n",
       "      <td>A2</td>\n",
       "      <td>198</td>\n",
       "      <td>100</td>\n",
       "      <td>82</td>\n",
       "      <td>78</td>\n",
       "      <td>88</td>\n",
       "      <td>NaN</td>\n",
       "    </tr>\n",
       "    <tr>\n",
       "      <th>#3</th>\n",
       "      <td>Smith</td>\n",
       "      <td>A2</td>\n",
       "      <td>168</td>\n",
       "      <td>85</td>\n",
       "      <td>87</td>\n",
       "      <td>90</td>\n",
       "      <td>75</td>\n",
       "      <td>C++</td>\n",
       "    </tr>\n",
       "    <tr>\n",
       "      <th>#4</th>\n",
       "      <td>John</td>\n",
       "      <td>A1</td>\n",
       "      <td>188</td>\n",
       "      <td>70</td>\n",
       "      <td>65</td>\n",
       "      <td>95</td>\n",
       "      <td>92</td>\n",
       "      <td>Java</td>\n",
       "    </tr>\n",
       "    <tr>\n",
       "      <th>#5</th>\n",
       "      <td>Kara</td>\n",
       "      <td>A1</td>\n",
       "      <td>201</td>\n",
       "      <td>82</td>\n",
       "      <td>78</td>\n",
       "      <td>88</td>\n",
       "      <td>84</td>\n",
       "      <td>NaN</td>\n",
       "    </tr>\n",
       "    <tr>\n",
       "      <th>#6</th>\n",
       "      <td>Daisy</td>\n",
       "      <td>A1</td>\n",
       "      <td>172</td>\n",
       "      <td>91</td>\n",
       "      <td>80</td>\n",
       "      <td>76</td>\n",
       "      <td>80</td>\n",
       "      <td>NaN</td>\n",
       "    </tr>\n",
       "    <tr>\n",
       "      <th>#7</th>\n",
       "      <td>Jack</td>\n",
       "      <td>A2</td>\n",
       "      <td>174</td>\n",
       "      <td>77</td>\n",
       "      <td>50</td>\n",
       "      <td>85</td>\n",
       "      <td>100</td>\n",
       "      <td>R</td>\n",
       "    </tr>\n",
       "    <tr>\n",
       "      <th>#8</th>\n",
       "      <td>Poppy</td>\n",
       "      <td>A1</td>\n",
       "      <td>180</td>\n",
       "      <td>80</td>\n",
       "      <td>90</td>\n",
       "      <td>70</td>\n",
       "      <td>89</td>\n",
       "      <td>Python</td>\n",
       "    </tr>\n",
       "  </tbody>\n",
       "</table>\n",
       "</div>"
      ],
      "text/plain": [
       "                     Name School  Height  English  Math  Biology  Finance  \\\n",
       "Application Number                                                          \n",
       "#1                    Ian     A1     178       90   100       88       95   \n",
       "#2                  Jason     A2     198      100    82       78       88   \n",
       "#3                  Smith     A2     168       85    87       90       75   \n",
       "#4                   John     A1     188       70    65       95       92   \n",
       "#5                   Kara     A1     201       82    78       88       84   \n",
       "#6                  Daisy     A1     172       91    80       76       80   \n",
       "#7                   Jack     A2     174       77    50       85      100   \n",
       "#8                  Poppy     A1     180       80    90       70       89   \n",
       "\n",
       "                    Coding  \n",
       "Application Number          \n",
       "#1                  Python  \n",
       "#2                     NaN  \n",
       "#3                     C++  \n",
       "#4                    Java  \n",
       "#5                     NaN  \n",
       "#6                     NaN  \n",
       "#7                       R  \n",
       "#8                  Python  "
      ]
     },
     "execution_count": 1,
     "metadata": {},
     "output_type": "execute_result"
    }
   ],
   "source": [
    "import pandas as pd\n",
    "df = pd.read_excel('score.xlsx', index_col='Application Number')\n",
    "df"
   ]
  },
  {
   "cell_type": "code",
   "execution_count": 2,
   "id": "b0e4e0cf",
   "metadata": {},
   "outputs": [
    {
     "data": {
      "text/plain": [
       "Name          Ian\n",
       "School         A1\n",
       "Height        178\n",
       "English        90\n",
       "Math          100\n",
       "Biology        88\n",
       "Finance        95\n",
       "Coding     Python\n",
       "Name: #1, dtype: object"
      ]
     },
     "execution_count": 2,
     "metadata": {},
     "output_type": "execute_result"
    }
   ],
   "source": [
    "df.iloc[0]"
   ]
  },
  {
   "cell_type": "code",
   "execution_count": 3,
   "id": "261120ee",
   "metadata": {},
   "outputs": [
    {
     "data": {
      "text/plain": [
       "Name       Kara\n",
       "School       A1\n",
       "Height      201\n",
       "English      82\n",
       "Math         78\n",
       "Biology      88\n",
       "Finance      84\n",
       "Coding      NaN\n",
       "Name: #5, dtype: object"
      ]
     },
     "execution_count": 3,
     "metadata": {},
     "output_type": "execute_result"
    }
   ],
   "source": [
    "df.iloc[4]"
   ]
  },
  {
   "cell_type": "code",
   "execution_count": 4,
   "id": "88c0c65d",
   "metadata": {},
   "outputs": [
    {
     "data": {
      "text/html": [
       "<div>\n",
       "<style scoped>\n",
       "    .dataframe tbody tr th:only-of-type {\n",
       "        vertical-align: middle;\n",
       "    }\n",
       "\n",
       "    .dataframe tbody tr th {\n",
       "        vertical-align: top;\n",
       "    }\n",
       "\n",
       "    .dataframe thead th {\n",
       "        text-align: right;\n",
       "    }\n",
       "</style>\n",
       "<table border=\"1\" class=\"dataframe\">\n",
       "  <thead>\n",
       "    <tr style=\"text-align: right;\">\n",
       "      <th></th>\n",
       "      <th>Name</th>\n",
       "      <th>School</th>\n",
       "      <th>Height</th>\n",
       "      <th>English</th>\n",
       "      <th>Math</th>\n",
       "      <th>Biology</th>\n",
       "      <th>Finance</th>\n",
       "      <th>Coding</th>\n",
       "    </tr>\n",
       "    <tr>\n",
       "      <th>Application Number</th>\n",
       "      <th></th>\n",
       "      <th></th>\n",
       "      <th></th>\n",
       "      <th></th>\n",
       "      <th></th>\n",
       "      <th></th>\n",
       "      <th></th>\n",
       "      <th></th>\n",
       "    </tr>\n",
       "  </thead>\n",
       "  <tbody>\n",
       "    <tr>\n",
       "      <th>#3</th>\n",
       "      <td>Smith</td>\n",
       "      <td>A2</td>\n",
       "      <td>168</td>\n",
       "      <td>85</td>\n",
       "      <td>87</td>\n",
       "      <td>90</td>\n",
       "      <td>75</td>\n",
       "      <td>C++</td>\n",
       "    </tr>\n",
       "    <tr>\n",
       "      <th>#4</th>\n",
       "      <td>John</td>\n",
       "      <td>A1</td>\n",
       "      <td>188</td>\n",
       "      <td>70</td>\n",
       "      <td>65</td>\n",
       "      <td>95</td>\n",
       "      <td>92</td>\n",
       "      <td>Java</td>\n",
       "    </tr>\n",
       "    <tr>\n",
       "      <th>#5</th>\n",
       "      <td>Kara</td>\n",
       "      <td>A1</td>\n",
       "      <td>201</td>\n",
       "      <td>82</td>\n",
       "      <td>78</td>\n",
       "      <td>88</td>\n",
       "      <td>84</td>\n",
       "      <td>NaN</td>\n",
       "    </tr>\n",
       "  </tbody>\n",
       "</table>\n",
       "</div>"
      ],
      "text/plain": [
       "                     Name School  Height  English  Math  Biology  Finance  \\\n",
       "Application Number                                                          \n",
       "#3                  Smith     A2     168       85    87       90       75   \n",
       "#4                   John     A1     188       70    65       95       92   \n",
       "#5                   Kara     A1     201       82    78       88       84   \n",
       "\n",
       "                   Coding  \n",
       "Application Number         \n",
       "#3                    C++  \n",
       "#4                   Java  \n",
       "#5                    NaN  "
      ]
     },
     "execution_count": 4,
     "metadata": {},
     "output_type": "execute_result"
    }
   ],
   "source": [
    "df.iloc[2:5]"
   ]
  },
  {
   "cell_type": "code",
   "execution_count": 5,
   "id": "7a9add40",
   "metadata": {},
   "outputs": [
    {
     "data": {
      "text/plain": [
       "'A1'"
      ]
     },
     "execution_count": 5,
     "metadata": {},
     "output_type": "execute_result"
    }
   ],
   "source": [
    "df.iloc[0, 1]"
   ]
  },
  {
   "cell_type": "code",
   "execution_count": 6,
   "id": "0265deca",
   "metadata": {},
   "outputs": [
    {
     "data": {
      "text/plain": [
       "Height     178\n",
       "Biology     88\n",
       "Name: #1, dtype: object"
      ]
     },
     "execution_count": 6,
     "metadata": {},
     "output_type": "execute_result"
    }
   ],
   "source": [
    "df.iloc[0, [2, 5]]"
   ]
  },
  {
   "cell_type": "code",
   "execution_count": 7,
   "id": "8ac4fd71",
   "metadata": {},
   "outputs": [
    {
     "data": {
      "text/html": [
       "<div>\n",
       "<style scoped>\n",
       "    .dataframe tbody tr th:only-of-type {\n",
       "        vertical-align: middle;\n",
       "    }\n",
       "\n",
       "    .dataframe tbody tr th {\n",
       "        vertical-align: top;\n",
       "    }\n",
       "\n",
       "    .dataframe thead th {\n",
       "        text-align: right;\n",
       "    }\n",
       "</style>\n",
       "<table border=\"1\" class=\"dataframe\">\n",
       "  <thead>\n",
       "    <tr style=\"text-align: right;\">\n",
       "      <th></th>\n",
       "      <th>School</th>\n",
       "      <th>Math</th>\n",
       "    </tr>\n",
       "    <tr>\n",
       "      <th>Application Number</th>\n",
       "      <th></th>\n",
       "      <th></th>\n",
       "    </tr>\n",
       "  </thead>\n",
       "  <tbody>\n",
       "    <tr>\n",
       "      <th>#1</th>\n",
       "      <td>A1</td>\n",
       "      <td>100</td>\n",
       "    </tr>\n",
       "    <tr>\n",
       "      <th>#3</th>\n",
       "      <td>A2</td>\n",
       "      <td>87</td>\n",
       "    </tr>\n",
       "  </tbody>\n",
       "</table>\n",
       "</div>"
      ],
      "text/plain": [
       "                   School  Math\n",
       "Application Number             \n",
       "#1                     A1   100\n",
       "#3                     A2    87"
      ]
     },
     "execution_count": 7,
     "metadata": {},
     "output_type": "execute_result"
    }
   ],
   "source": [
    "df.iloc[[0, 2],[1, 4]]"
   ]
  },
  {
   "cell_type": "code",
   "execution_count": 8,
   "id": "872cb4aa",
   "metadata": {},
   "outputs": [
    {
     "data": {
      "text/html": [
       "<div>\n",
       "<style scoped>\n",
       "    .dataframe tbody tr th:only-of-type {\n",
       "        vertical-align: middle;\n",
       "    }\n",
       "\n",
       "    .dataframe tbody tr th {\n",
       "        vertical-align: top;\n",
       "    }\n",
       "\n",
       "    .dataframe thead th {\n",
       "        text-align: right;\n",
       "    }\n",
       "</style>\n",
       "<table border=\"1\" class=\"dataframe\">\n",
       "  <thead>\n",
       "    <tr style=\"text-align: right;\">\n",
       "      <th></th>\n",
       "      <th>Height</th>\n",
       "      <th>English</th>\n",
       "      <th>Math</th>\n",
       "      <th>Biology</th>\n",
       "      <th>Finance</th>\n",
       "    </tr>\n",
       "    <tr>\n",
       "      <th>Application Number</th>\n",
       "      <th></th>\n",
       "      <th></th>\n",
       "      <th></th>\n",
       "      <th></th>\n",
       "      <th></th>\n",
       "    </tr>\n",
       "  </thead>\n",
       "  <tbody>\n",
       "    <tr>\n",
       "      <th>#1</th>\n",
       "      <td>178</td>\n",
       "      <td>90</td>\n",
       "      <td>100</td>\n",
       "      <td>88</td>\n",
       "      <td>95</td>\n",
       "    </tr>\n",
       "    <tr>\n",
       "      <th>#2</th>\n",
       "      <td>198</td>\n",
       "      <td>100</td>\n",
       "      <td>82</td>\n",
       "      <td>78</td>\n",
       "      <td>88</td>\n",
       "    </tr>\n",
       "    <tr>\n",
       "      <th>#3</th>\n",
       "      <td>168</td>\n",
       "      <td>85</td>\n",
       "      <td>87</td>\n",
       "      <td>90</td>\n",
       "      <td>75</td>\n",
       "    </tr>\n",
       "    <tr>\n",
       "      <th>#4</th>\n",
       "      <td>188</td>\n",
       "      <td>70</td>\n",
       "      <td>65</td>\n",
       "      <td>95</td>\n",
       "      <td>92</td>\n",
       "    </tr>\n",
       "  </tbody>\n",
       "</table>\n",
       "</div>"
      ],
      "text/plain": [
       "                    Height  English  Math  Biology  Finance\n",
       "Application Number                                         \n",
       "#1                     178       90   100       88       95\n",
       "#2                     198      100    82       78       88\n",
       "#3                     168       85    87       90       75\n",
       "#4                     188       70    65       95       92"
      ]
     },
     "execution_count": 8,
     "metadata": {},
     "output_type": "execute_result"
    }
   ],
   "source": [
    "df.iloc[0:4, 2:7]"
   ]
  }
 ],
 "metadata": {
  "kernelspec": {
   "display_name": "Python 3 (ipykernel)",
   "language": "python",
   "name": "python3"
  },
  "language_info": {
   "codemirror_mode": {
    "name": "ipython",
    "version": 3
   },
   "file_extension": ".py",
   "mimetype": "text/x-python",
   "name": "python",
   "nbconvert_exporter": "python",
   "pygments_lexer": "ipython3",
   "version": "3.9.12"
  }
 },
 "nbformat": 4,
 "nbformat_minor": 5
}
